{
 "cells": [
  {
   "attachments": {},
   "cell_type": "markdown",
   "metadata": {},
   "source": [
    "# Nettoyage"
   ]
  },
  {
   "cell_type": "code",
   "execution_count": 43,
   "metadata": {},
   "outputs": [],
   "source": [
    "# TODO:\n",
    "# Factoriser encodage et normalisation\n",
    "# Finir nettoyage model\n",
    "# Levy ?\n",
    "#  Certains model nom doublé ex (x-trail x-trail)\n",
    "#  Alphabet géorgien à extraire des modèles\n",
    "#  Suppr des classes pas suffisement représentés ?\n",
    "#  Vérifier le type des series"
   ]
  },
  {
   "cell_type": "code",
   "execution_count": 44,
   "metadata": {},
   "outputs": [],
   "source": [
    "import pandas as pd\n",
    "import sklearn\n",
    "from sklearn.preprocessing import OneHotEncoder, StandardScaler, RobustScaler\n",
    "from sklearn.compose import ColumnTransformer\n",
    "import matplotlib.pyplot as plt\n",
    "from cleaning_func import clean_manufacturer, clean_mileage, clean_price, clean_engine_volume, clean_doors, clean_model, clean_cylinders, clean_wheel_v2, clean_leather_interior_v2"
   ]
  },
  {
   "cell_type": "code",
   "execution_count": 45,
   "metadata": {},
   "outputs": [],
   "source": [
    "df = pd.read_csv('./original.csv')"
   ]
  },
  {
   "cell_type": "code",
   "execution_count": 46,
   "metadata": {},
   "outputs": [],
   "source": [
    "# Suppression des doublons\n",
    "df.drop_duplicates(keep='first', inplace=True)"
   ]
  },
  {
   "cell_type": "code",
   "execution_count": 47,
   "metadata": {},
   "outputs": [],
   "source": [
    "# Colonnes enlevés: ID ; À nettoyer et ajouter : Levy, Model\n",
    "df = df[['Price', 'Manufacturer', 'Prod. year', 'Category', 'Leather interior',\n",
    "         'Fuel type', 'Engine volume', 'Mileage', 'Cylinders', 'Gear box type', 'Drive wheels', 'Doors', 'Wheel', 'Color','Airbags']]"
   ]
  },
  {
   "cell_type": "code",
   "execution_count": 48,
   "metadata": {},
   "outputs": [],
   "source": [
    "df = clean_manufacturer(df, ['სხვა', 'TESLA'],\n",
    "                        'Manufacturer')  # Manufacturer => 3 lignes\n",
    "df = clean_price(df, min=500, max=1000000)  # Price => 1664 lignes\n",
    "df = clean_mileage(df, min=500, max=1000000)  # Mileage => 677 lignes\n",
    "df = clean_engine_volume(df, 0.5, 8)  # Engine volume => 28 lignes\n",
    "df = clean_cylinders(df, min=3.0, max=12)  # Cylinders => 37 lignes\n",
    "df = clean_doors(df)  # Doors => 0 lignes\n",
    "# df = clean_model(df)  # Model => 0 lignes\n",
    "df = clean_wheel_v2(df)  # Wheel => 0 lignes\n",
    "df = clean_leather_interior_v2(df)  # Leather interior => 0 lignes"
   ]
  },
  {
   "cell_type": "code",
   "execution_count": 49,
   "metadata": {},
   "outputs": [
    {
     "name": "stdout",
     "output_type": "stream",
     "text": [
      "   Price Manufacturer  Prod. year   Category Leather interior Fuel type  Engine volume  Mileage  Cylinders Gear box type Drive wheels Doors        Wheel   Color  Airbags  Turbo\n",
      "0  13328        LEXUS        2010       Jeep          leather    Hybrid            3.5   186005        6.0     Automatic          4x4     5   Left_wheel  Silver       12  False\n",
      "1  16621    CHEVROLET        2011       Jeep       no_leather    Petrol            3.0   192000        6.0     Tiptronic          4x4     5   Left_wheel   Black        8  False\n",
      "2   8467        HONDA        2006  Hatchback       no_leather    Petrol            1.3   200000        4.0      Variator        Front     5  Right_wheel   Black        2  False\n",
      "3   3607         FORD        2011       Jeep          leather    Hybrid            2.5   168966        4.0     Automatic          4x4     5   Left_wheel   White        0  False\n",
      "4  11726        HONDA        2014  Hatchback          leather    Petrol            1.3    91901        4.0     Automatic        Front     5   Left_wheel  Silver        4  False\n"
     ]
    }
   ],
   "source": [
    "pd.set_option('display.max_columns', 500)\n",
    "pd.set_option('display.width', 1000)\n",
    "print(df.head())"
   ]
  },
  {
   "cell_type": "code",
   "execution_count": 50,
   "metadata": {},
   "outputs": [],
   "source": [
    "# Correspond à mon transformer custom ??\n",
    "def process(transformer , transformer_type, columns_to_process, df: pd.DataFrame):\n",
    "    \n",
    "    # Créer la transformation des colonnes\n",
    "    column_transformer = ColumnTransformer([(transformer_type, transformer, columns_to_process)], remainder='passthrough')\n",
    "\n",
    "    # Appliquer la transformation aux données\n",
    "    data_encoded = column_transformer.fit_transform(df[columns_to_process])\n",
    "\n",
    "    # Créer un nouveau dataframe avec les colonnes encodées\n",
    "    columns_encoded = column_transformer.get_feature_names_out()\n",
    "    data_encoded = pd.DataFrame(data_encoded, columns=columns_encoded)\n",
    "\n",
    "    return column_transformer, data_encoded\n"
   ]
  },
  {
   "attachments": {},
   "cell_type": "markdown",
   "metadata": {},
   "source": [
    "# Encodage"
   ]
  },
  {
   "cell_type": "code",
   "execution_count": 51,
   "metadata": {},
   "outputs": [
    {
     "name": "stdout",
     "output_type": "stream",
     "text": [
      "   encoder__Gear box type_Automatic  encoder__Gear box type_Manual  encoder__Gear box type_Tiptronic  encoder__Gear box type_Variator  encoder__Leather interior_leather  encoder__Leather interior_no_leather  encoder__Manufacturer_ACURA  encoder__Manufacturer_ALFA ROMEO  encoder__Manufacturer_ASTON MARTIN  encoder__Manufacturer_AUDI  encoder__Manufacturer_BENTLEY  encoder__Manufacturer_BMW  encoder__Manufacturer_BUICK  encoder__Manufacturer_CADILLAC  encoder__Manufacturer_CHEVROLET  encoder__Manufacturer_CHRYSLER  encoder__Manufacturer_CITROEN  encoder__Manufacturer_DAEWOO  encoder__Manufacturer_DAIHATSU  encoder__Manufacturer_DODGE  encoder__Manufacturer_FERRARI  encoder__Manufacturer_FIAT  encoder__Manufacturer_FORD  encoder__Manufacturer_GAZ  encoder__Manufacturer_GMC  encoder__Manufacturer_HAVAL  encoder__Manufacturer_HONDA  encoder__Manufacturer_HUMMER  encoder__Manufacturer_HYUNDAI  encoder__Manufacturer_INFINITI  encoder__Manufacturer_ISUZU  encoder__Manufacturer_JAGUAR  encoder__Manufacturer_JEEP  encoder__Manufacturer_KIA  encoder__Manufacturer_LAMBORGHINI  encoder__Manufacturer_LANCIA  encoder__Manufacturer_LAND ROVER  encoder__Manufacturer_LEXUS  encoder__Manufacturer_LINCOLN  encoder__Manufacturer_MASERATI  encoder__Manufacturer_MAZDA  encoder__Manufacturer_MERCEDES-BENZ  encoder__Manufacturer_MERCURY  encoder__Manufacturer_MINI  encoder__Manufacturer_MITSUBISHI  encoder__Manufacturer_MOSKVICH  encoder__Manufacturer_NISSAN  encoder__Manufacturer_OPEL  encoder__Manufacturer_PEUGEOT  encoder__Manufacturer_PONTIAC  encoder__Manufacturer_PORSCHE  encoder__Manufacturer_RENAULT  encoder__Manufacturer_ROVER  encoder__Manufacturer_SAAB  encoder__Manufacturer_SATURN  encoder__Manufacturer_SCION  encoder__Manufacturer_SEAT  encoder__Manufacturer_SKODA  encoder__Manufacturer_SSANGYONG  encoder__Manufacturer_SUBARU  encoder__Manufacturer_SUZUKI  encoder__Manufacturer_TOYOTA  encoder__Manufacturer_UAZ  encoder__Manufacturer_VAZ  encoder__Manufacturer_VOLKSWAGEN  encoder__Manufacturer_VOLVO  encoder__Manufacturer_ZAZ  encoder__Category_Cabriolet  encoder__Category_Coupe  encoder__Category_Goods wagon  encoder__Category_Hatchback  encoder__Category_Jeep  encoder__Category_Limousine  encoder__Category_Microbus  encoder__Category_Minivan  encoder__Category_Pickup  encoder__Category_Sedan  encoder__Category_Universal  encoder__Fuel type_CNG  encoder__Fuel type_Diesel  encoder__Fuel type_Hybrid  encoder__Fuel type_Hydrogen  encoder__Fuel type_LPG  encoder__Fuel type_Petrol  encoder__Fuel type_Plug-in Hybrid  encoder__Drive wheels_4x4  encoder__Drive wheels_Front  encoder__Drive wheels_Rear  encoder__Doors_3  encoder__Doors_5  encoder__Wheel_Left_wheel  encoder__Wheel_Right_wheel  encoder__Color_Beige  encoder__Color_Black  encoder__Color_Blue  encoder__Color_Brown  encoder__Color_Carnelian red  encoder__Color_Golden  encoder__Color_Green  encoder__Color_Grey  encoder__Color_Orange  encoder__Color_Pink  encoder__Color_Purple  encoder__Color_Red  encoder__Color_Silver  encoder__Color_Sky blue  encoder__Color_White  encoder__Color_Yellow  encoder__Turbo_False  encoder__Turbo_True\n",
      "0                               1.0                            0.0                               0.0                              0.0                                1.0                                   0.0                          0.0                               0.0                                 0.0                         0.0                            0.0                        0.0                          0.0                             0.0                              0.0                             0.0                            0.0                           0.0                             0.0                          0.0                            0.0                         0.0                         0.0                        0.0                        0.0                          0.0                          0.0                           0.0                            0.0                             0.0                          0.0                           0.0                         0.0                        0.0                                0.0                           0.0                               0.0                          1.0                            0.0                             0.0                          0.0                                  0.0                            0.0                         0.0                               0.0                             0.0                           0.0                         0.0                            0.0                            0.0                            0.0                            0.0                          0.0                         0.0                           0.0                          0.0                         0.0                          0.0                              0.0                           0.0                           0.0                           0.0                        0.0                        0.0                               0.0                          0.0                        0.0                          0.0                      0.0                            0.0                          0.0                     1.0                          0.0                         0.0                        0.0                       0.0                      0.0                          0.0                     0.0                        0.0                        1.0                          0.0                     0.0                        0.0                                0.0                        1.0                          0.0                         0.0               0.0               1.0                        1.0                         0.0                   0.0                   0.0                  0.0                   0.0                           0.0                    0.0                   0.0                  0.0                    0.0                  0.0                    0.0                 0.0                    1.0                      0.0                   0.0                    0.0                   1.0                  0.0\n",
      "1                               0.0                            0.0                               1.0                              0.0                                0.0                                   1.0                          0.0                               0.0                                 0.0                         0.0                            0.0                        0.0                          0.0                             0.0                              1.0                             0.0                            0.0                           0.0                             0.0                          0.0                            0.0                         0.0                         0.0                        0.0                        0.0                          0.0                          0.0                           0.0                            0.0                             0.0                          0.0                           0.0                         0.0                        0.0                                0.0                           0.0                               0.0                          0.0                            0.0                             0.0                          0.0                                  0.0                            0.0                         0.0                               0.0                             0.0                           0.0                         0.0                            0.0                            0.0                            0.0                            0.0                          0.0                         0.0                           0.0                          0.0                         0.0                          0.0                              0.0                           0.0                           0.0                           0.0                        0.0                        0.0                               0.0                          0.0                        0.0                          0.0                      0.0                            0.0                          0.0                     1.0                          0.0                         0.0                        0.0                       0.0                      0.0                          0.0                     0.0                        0.0                        0.0                          0.0                     0.0                        1.0                                0.0                        1.0                          0.0                         0.0               0.0               1.0                        1.0                         0.0                   0.0                   1.0                  0.0                   0.0                           0.0                    0.0                   0.0                  0.0                    0.0                  0.0                    0.0                 0.0                    0.0                      0.0                   0.0                    0.0                   1.0                  0.0\n",
      "2                               0.0                            0.0                               0.0                              1.0                                0.0                                   1.0                          0.0                               0.0                                 0.0                         0.0                            0.0                        0.0                          0.0                             0.0                              0.0                             0.0                            0.0                           0.0                             0.0                          0.0                            0.0                         0.0                         0.0                        0.0                        0.0                          0.0                          1.0                           0.0                            0.0                             0.0                          0.0                           0.0                         0.0                        0.0                                0.0                           0.0                               0.0                          0.0                            0.0                             0.0                          0.0                                  0.0                            0.0                         0.0                               0.0                             0.0                           0.0                         0.0                            0.0                            0.0                            0.0                            0.0                          0.0                         0.0                           0.0                          0.0                         0.0                          0.0                              0.0                           0.0                           0.0                           0.0                        0.0                        0.0                               0.0                          0.0                        0.0                          0.0                      0.0                            0.0                          1.0                     0.0                          0.0                         0.0                        0.0                       0.0                      0.0                          0.0                     0.0                        0.0                        0.0                          0.0                     0.0                        1.0                                0.0                        0.0                          1.0                         0.0               0.0               1.0                        0.0                         1.0                   0.0                   1.0                  0.0                   0.0                           0.0                    0.0                   0.0                  0.0                    0.0                  0.0                    0.0                 0.0                    0.0                      0.0                   0.0                    0.0                   1.0                  0.0\n",
      "3                               1.0                            0.0                               0.0                              0.0                                1.0                                   0.0                          0.0                               0.0                                 0.0                         0.0                            0.0                        0.0                          0.0                             0.0                              0.0                             0.0                            0.0                           0.0                             0.0                          0.0                            0.0                         0.0                         1.0                        0.0                        0.0                          0.0                          0.0                           0.0                            0.0                             0.0                          0.0                           0.0                         0.0                        0.0                                0.0                           0.0                               0.0                          0.0                            0.0                             0.0                          0.0                                  0.0                            0.0                         0.0                               0.0                             0.0                           0.0                         0.0                            0.0                            0.0                            0.0                            0.0                          0.0                         0.0                           0.0                          0.0                         0.0                          0.0                              0.0                           0.0                           0.0                           0.0                        0.0                        0.0                               0.0                          0.0                        0.0                          0.0                      0.0                            0.0                          0.0                     1.0                          0.0                         0.0                        0.0                       0.0                      0.0                          0.0                     0.0                        0.0                        1.0                          0.0                     0.0                        0.0                                0.0                        1.0                          0.0                         0.0               0.0               1.0                        1.0                         0.0                   0.0                   0.0                  0.0                   0.0                           0.0                    0.0                   0.0                  0.0                    0.0                  0.0                    0.0                 0.0                    0.0                      0.0                   1.0                    0.0                   1.0                  0.0\n",
      "4                               1.0                            0.0                               0.0                              0.0                                1.0                                   0.0                          0.0                               0.0                                 0.0                         0.0                            0.0                        0.0                          0.0                             0.0                              0.0                             0.0                            0.0                           0.0                             0.0                          0.0                            0.0                         0.0                         0.0                        0.0                        0.0                          0.0                          1.0                           0.0                            0.0                             0.0                          0.0                           0.0                         0.0                        0.0                                0.0                           0.0                               0.0                          0.0                            0.0                             0.0                          0.0                                  0.0                            0.0                         0.0                               0.0                             0.0                           0.0                         0.0                            0.0                            0.0                            0.0                            0.0                          0.0                         0.0                           0.0                          0.0                         0.0                          0.0                              0.0                           0.0                           0.0                           0.0                        0.0                        0.0                               0.0                          0.0                        0.0                          0.0                      0.0                            0.0                          1.0                     0.0                          0.0                         0.0                        0.0                       0.0                      0.0                          0.0                     0.0                        0.0                        0.0                          0.0                     0.0                        1.0                                0.0                        0.0                          1.0                         0.0               0.0               1.0                        1.0                         0.0                   0.0                   0.0                  0.0                   0.0                           0.0                    0.0                   0.0                  0.0                    0.0                  0.0                    0.0                 0.0                    1.0                      0.0                   0.0                    0.0                   1.0                  0.0\n"
     ]
    }
   ],
   "source": [
    "# Encodage choisi\n",
    "one_hot_encoder = OneHotEncoder(sparse_output=False) # Possible avec sparse_output ? avantage ?\n",
    "\n",
    "# Colonnes à encoder (Manque model)\n",
    "columns_to_one_hot_encode = ['Gear box type','Leather interior','Manufacturer',\n",
    "                 'Category', 'Fuel type', 'Drive wheels', 'Doors',\n",
    "                   'Wheel', 'Color', 'Turbo']\n",
    "\n",
    "# Créer la transformation des colonnes\n",
    "column_transformer = ColumnTransformer([('encoder', one_hot_encoder, columns_to_one_hot_encode)], remainder='passthrough')\n",
    "\n",
    "# Appliquer la transformation aux données\n",
    "data_one_hot_encoded = column_transformer.fit_transform(df[columns_to_one_hot_encode])\n",
    "\n",
    "# Créer un nouveau dataframe avec les colonnes encodées\n",
    "columns_encoded = column_transformer.get_feature_names_out()\n",
    "data_encoded = pd.DataFrame(data_one_hot_encoded, columns=columns_encoded)\n",
    "\n",
    "# Afficher les premières lignes du dataframe encodé pour vérification\n",
    "pd.set_option('display.max_columns', 500)\n",
    "pd.set_option('display.width', 10000)\n",
    "print(data_encoded.head())"
   ]
  },
  {
   "attachments": {},
   "cell_type": "markdown",
   "metadata": {},
   "source": [
    "# Normalisation"
   ]
  },
  {
   "attachments": {},
   "cell_type": "markdown",
   "metadata": {},
   "source": [
    "##### StandardScaler()"
   ]
  },
  {
   "cell_type": "code",
   "execution_count": 52,
   "metadata": {},
   "outputs": [
    {
     "name": "stdout",
     "output_type": "stream",
     "text": [
      "   scaler__Prod. year  scaler__Engine volume  scaler__Mileage  scaler__Cylinders  scaler__Airbags\n",
      "0           -0.198149               1.461008         0.426522           1.260359         1.311633\n",
      "1           -0.013191               0.858793         0.486614           1.260359         0.353711\n",
      "2           -0.937981              -1.188739         0.566805          -0.485656        -1.083171\n",
      "3           -0.013191               0.256578         0.255726          -0.485656        -1.562131\n",
      "4            0.541684              -1.188739        -0.516757          -0.485656        -0.604210\n"
     ]
    }
   ],
   "source": [
    "# Normaliseur choisi\n",
    "standard_scaler = StandardScaler()\n",
    "\n",
    "# Colonne à normaliser\n",
    "columns_to_scale = ['Prod. year', 'Engine volume', 'Mileage', 'Cylinders', 'Airbags']\n",
    "\n",
    "# Créer la transformation des colonnes\n",
    "standard_column_transformer = ColumnTransformer([('scaler', standard_scaler, columns_to_scale)],\n",
    "                                       remainder='passthrough')\n",
    "\n",
    "# Appliquer la transformation aux données\n",
    "data_scaled = standard_column_transformer.fit_transform(df[columns_to_scale])\n",
    "\n",
    "# Créer un nouveau dataframe avec les colonnes normalisées\n",
    "columns_scaled = standard_column_transformer.get_feature_names_out()\n",
    "data_scaled = pd.DataFrame(data_scaled, columns=columns_scaled)\n",
    "\n",
    "print(data_scaled.head())"
   ]
  },
  {
   "attachments": {},
   "cell_type": "markdown",
   "metadata": {},
   "source": [
    "##### RobustScaler() (Manque Levy)"
   ]
  },
  {
   "cell_type": "code",
   "execution_count": 53,
   "metadata": {},
   "outputs": [
    {
     "name": "stdout",
     "output_type": "stream",
     "text": [
      "   scaler__Mileage  scaler__Airbags\n",
      "0         0.520801             1.00\n",
      "1         0.574628             0.50\n",
      "2         0.646456            -0.25\n",
      "3         0.367815            -0.50\n",
      "4        -0.324117             0.00\n"
     ]
    }
   ],
   "source": [
    "column_transformer_robust, data_scaled_robust = process(RobustScaler(), 'scaler', ['Mileage', 'Airbags'], df)\n",
    "print(data_scaled_robust.head())"
   ]
  },
  {
   "attachments": {},
   "cell_type": "markdown",
   "metadata": {},
   "source": [
    "## Concaténer les transformed dataframe"
   ]
  },
  {
   "cell_type": "code",
   "execution_count": 54,
   "metadata": {},
   "outputs": [
    {
     "name": "stdout",
     "output_type": "stream",
     "text": [
      "   scaler__Mileage  scaler__Airbags  scaler__Prod. year  scaler__Engine volume  scaler__Mileage  scaler__Cylinders  scaler__Airbags  encoder__Gear box type_Automatic  encoder__Gear box type_Manual  encoder__Gear box type_Tiptronic  encoder__Gear box type_Variator  encoder__Leather interior_leather  encoder__Leather interior_no_leather  encoder__Manufacturer_ACURA  encoder__Manufacturer_ALFA ROMEO  encoder__Manufacturer_ASTON MARTIN  encoder__Manufacturer_AUDI  encoder__Manufacturer_BENTLEY  encoder__Manufacturer_BMW  encoder__Manufacturer_BUICK  encoder__Manufacturer_CADILLAC  encoder__Manufacturer_CHEVROLET  encoder__Manufacturer_CHRYSLER  encoder__Manufacturer_CITROEN  encoder__Manufacturer_DAEWOO  encoder__Manufacturer_DAIHATSU  encoder__Manufacturer_DODGE  encoder__Manufacturer_FERRARI  encoder__Manufacturer_FIAT  encoder__Manufacturer_FORD  encoder__Manufacturer_GAZ  encoder__Manufacturer_GMC  encoder__Manufacturer_HAVAL  encoder__Manufacturer_HONDA  encoder__Manufacturer_HUMMER  encoder__Manufacturer_HYUNDAI  encoder__Manufacturer_INFINITI  encoder__Manufacturer_ISUZU  encoder__Manufacturer_JAGUAR  encoder__Manufacturer_JEEP  encoder__Manufacturer_KIA  encoder__Manufacturer_LAMBORGHINI  encoder__Manufacturer_LANCIA  encoder__Manufacturer_LAND ROVER  encoder__Manufacturer_LEXUS  encoder__Manufacturer_LINCOLN  encoder__Manufacturer_MASERATI  encoder__Manufacturer_MAZDA  encoder__Manufacturer_MERCEDES-BENZ  encoder__Manufacturer_MERCURY  encoder__Manufacturer_MINI  encoder__Manufacturer_MITSUBISHI  encoder__Manufacturer_MOSKVICH  encoder__Manufacturer_NISSAN  encoder__Manufacturer_OPEL  encoder__Manufacturer_PEUGEOT  encoder__Manufacturer_PONTIAC  encoder__Manufacturer_PORSCHE  encoder__Manufacturer_RENAULT  encoder__Manufacturer_ROVER  encoder__Manufacturer_SAAB  encoder__Manufacturer_SATURN  encoder__Manufacturer_SCION  encoder__Manufacturer_SEAT  encoder__Manufacturer_SKODA  encoder__Manufacturer_SSANGYONG  encoder__Manufacturer_SUBARU  encoder__Manufacturer_SUZUKI  encoder__Manufacturer_TOYOTA  encoder__Manufacturer_UAZ  encoder__Manufacturer_VAZ  encoder__Manufacturer_VOLKSWAGEN  encoder__Manufacturer_VOLVO  encoder__Manufacturer_ZAZ  encoder__Category_Cabriolet  encoder__Category_Coupe  encoder__Category_Goods wagon  encoder__Category_Hatchback  encoder__Category_Jeep  encoder__Category_Limousine  encoder__Category_Microbus  encoder__Category_Minivan  encoder__Category_Pickup  encoder__Category_Sedan  encoder__Category_Universal  encoder__Fuel type_CNG  encoder__Fuel type_Diesel  encoder__Fuel type_Hybrid  encoder__Fuel type_Hydrogen  encoder__Fuel type_LPG  encoder__Fuel type_Petrol  encoder__Fuel type_Plug-in Hybrid  encoder__Drive wheels_4x4  encoder__Drive wheels_Front  encoder__Drive wheels_Rear  encoder__Doors_3  encoder__Doors_5  encoder__Wheel_Left_wheel  encoder__Wheel_Right_wheel  encoder__Color_Beige  encoder__Color_Black  encoder__Color_Blue  encoder__Color_Brown  encoder__Color_Carnelian red  encoder__Color_Golden  encoder__Color_Green  encoder__Color_Grey  encoder__Color_Orange  encoder__Color_Pink  encoder__Color_Purple  encoder__Color_Red  encoder__Color_Silver  encoder__Color_Sky blue  encoder__Color_White  encoder__Color_Yellow  encoder__Turbo_False  encoder__Turbo_True\n",
      "0         0.520801             1.00           -0.198149               1.461008         0.426522           1.260359         1.311633                               1.0                            0.0                               0.0                              0.0                                1.0                                   0.0                          0.0                               0.0                                 0.0                         0.0                            0.0                        0.0                          0.0                             0.0                              0.0                             0.0                            0.0                           0.0                             0.0                          0.0                            0.0                         0.0                         0.0                        0.0                        0.0                          0.0                          0.0                           0.0                            0.0                             0.0                          0.0                           0.0                         0.0                        0.0                                0.0                           0.0                               0.0                          1.0                            0.0                             0.0                          0.0                                  0.0                            0.0                         0.0                               0.0                             0.0                           0.0                         0.0                            0.0                            0.0                            0.0                            0.0                          0.0                         0.0                           0.0                          0.0                         0.0                          0.0                              0.0                           0.0                           0.0                           0.0                        0.0                        0.0                               0.0                          0.0                        0.0                          0.0                      0.0                            0.0                          0.0                     1.0                          0.0                         0.0                        0.0                       0.0                      0.0                          0.0                     0.0                        0.0                        1.0                          0.0                     0.0                        0.0                                0.0                        1.0                          0.0                         0.0               0.0               1.0                        1.0                         0.0                   0.0                   0.0                  0.0                   0.0                           0.0                    0.0                   0.0                  0.0                    0.0                  0.0                    0.0                 0.0                    1.0                      0.0                   0.0                    0.0                   1.0                  0.0\n",
      "1         0.574628             0.50           -0.013191               0.858793         0.486614           1.260359         0.353711                               0.0                            0.0                               1.0                              0.0                                0.0                                   1.0                          0.0                               0.0                                 0.0                         0.0                            0.0                        0.0                          0.0                             0.0                              1.0                             0.0                            0.0                           0.0                             0.0                          0.0                            0.0                         0.0                         0.0                        0.0                        0.0                          0.0                          0.0                           0.0                            0.0                             0.0                          0.0                           0.0                         0.0                        0.0                                0.0                           0.0                               0.0                          0.0                            0.0                             0.0                          0.0                                  0.0                            0.0                         0.0                               0.0                             0.0                           0.0                         0.0                            0.0                            0.0                            0.0                            0.0                          0.0                         0.0                           0.0                          0.0                         0.0                          0.0                              0.0                           0.0                           0.0                           0.0                        0.0                        0.0                               0.0                          0.0                        0.0                          0.0                      0.0                            0.0                          0.0                     1.0                          0.0                         0.0                        0.0                       0.0                      0.0                          0.0                     0.0                        0.0                        0.0                          0.0                     0.0                        1.0                                0.0                        1.0                          0.0                         0.0               0.0               1.0                        1.0                         0.0                   0.0                   1.0                  0.0                   0.0                           0.0                    0.0                   0.0                  0.0                    0.0                  0.0                    0.0                 0.0                    0.0                      0.0                   0.0                    0.0                   1.0                  0.0\n",
      "2         0.646456            -0.25           -0.937981              -1.188739         0.566805          -0.485656        -1.083171                               0.0                            0.0                               0.0                              1.0                                0.0                                   1.0                          0.0                               0.0                                 0.0                         0.0                            0.0                        0.0                          0.0                             0.0                              0.0                             0.0                            0.0                           0.0                             0.0                          0.0                            0.0                         0.0                         0.0                        0.0                        0.0                          0.0                          1.0                           0.0                            0.0                             0.0                          0.0                           0.0                         0.0                        0.0                                0.0                           0.0                               0.0                          0.0                            0.0                             0.0                          0.0                                  0.0                            0.0                         0.0                               0.0                             0.0                           0.0                         0.0                            0.0                            0.0                            0.0                            0.0                          0.0                         0.0                           0.0                          0.0                         0.0                          0.0                              0.0                           0.0                           0.0                           0.0                        0.0                        0.0                               0.0                          0.0                        0.0                          0.0                      0.0                            0.0                          1.0                     0.0                          0.0                         0.0                        0.0                       0.0                      0.0                          0.0                     0.0                        0.0                        0.0                          0.0                     0.0                        1.0                                0.0                        0.0                          1.0                         0.0               0.0               1.0                        0.0                         1.0                   0.0                   1.0                  0.0                   0.0                           0.0                    0.0                   0.0                  0.0                    0.0                  0.0                    0.0                 0.0                    0.0                      0.0                   0.0                    0.0                   1.0                  0.0\n",
      "3         0.367815            -0.50           -0.013191               0.256578         0.255726          -0.485656        -1.562131                               1.0                            0.0                               0.0                              0.0                                1.0                                   0.0                          0.0                               0.0                                 0.0                         0.0                            0.0                        0.0                          0.0                             0.0                              0.0                             0.0                            0.0                           0.0                             0.0                          0.0                            0.0                         0.0                         1.0                        0.0                        0.0                          0.0                          0.0                           0.0                            0.0                             0.0                          0.0                           0.0                         0.0                        0.0                                0.0                           0.0                               0.0                          0.0                            0.0                             0.0                          0.0                                  0.0                            0.0                         0.0                               0.0                             0.0                           0.0                         0.0                            0.0                            0.0                            0.0                            0.0                          0.0                         0.0                           0.0                          0.0                         0.0                          0.0                              0.0                           0.0                           0.0                           0.0                        0.0                        0.0                               0.0                          0.0                        0.0                          0.0                      0.0                            0.0                          0.0                     1.0                          0.0                         0.0                        0.0                       0.0                      0.0                          0.0                     0.0                        0.0                        1.0                          0.0                     0.0                        0.0                                0.0                        1.0                          0.0                         0.0               0.0               1.0                        1.0                         0.0                   0.0                   0.0                  0.0                   0.0                           0.0                    0.0                   0.0                  0.0                    0.0                  0.0                    0.0                 0.0                    0.0                      0.0                   1.0                    0.0                   1.0                  0.0\n",
      "4        -0.324117             0.00            0.541684              -1.188739        -0.516757          -0.485656        -0.604210                               1.0                            0.0                               0.0                              0.0                                1.0                                   0.0                          0.0                               0.0                                 0.0                         0.0                            0.0                        0.0                          0.0                             0.0                              0.0                             0.0                            0.0                           0.0                             0.0                          0.0                            0.0                         0.0                         0.0                        0.0                        0.0                          0.0                          1.0                           0.0                            0.0                             0.0                          0.0                           0.0                         0.0                        0.0                                0.0                           0.0                               0.0                          0.0                            0.0                             0.0                          0.0                                  0.0                            0.0                         0.0                               0.0                             0.0                           0.0                         0.0                            0.0                            0.0                            0.0                            0.0                          0.0                         0.0                           0.0                          0.0                         0.0                          0.0                              0.0                           0.0                           0.0                           0.0                        0.0                        0.0                               0.0                          0.0                        0.0                          0.0                      0.0                            0.0                          1.0                     0.0                          0.0                         0.0                        0.0                       0.0                      0.0                          0.0                     0.0                        0.0                        0.0                          0.0                     0.0                        1.0                                0.0                        0.0                          1.0                         0.0               0.0               1.0                        1.0                         0.0                   0.0                   0.0                  0.0                   0.0                           0.0                    0.0                   0.0                  0.0                    0.0                  0.0                    0.0                 0.0                    1.0                      0.0                   0.0                    0.0                   1.0                  0.0\n",
      "<class 'pandas.core.frame.DataFrame'>\n",
      "RangeIndex: 16518 entries, 0 to 16517\n",
      "Columns: 117 entries, scaler__Mileage to encoder__Turbo_True\n",
      "dtypes: float64(117)\n",
      "memory usage: 14.7 MB\n",
      "None\n",
      "Index(['scaler__Mileage', 'scaler__Airbags', 'scaler__Prod. year', 'scaler__Engine volume', 'scaler__Mileage', 'scaler__Cylinders', 'scaler__Airbags', 'encoder__Gear box type_Automatic', 'encoder__Gear box type_Manual', 'encoder__Gear box type_Tiptronic',\n",
      "       ...\n",
      "       'encoder__Color_Orange', 'encoder__Color_Pink', 'encoder__Color_Purple', 'encoder__Color_Red', 'encoder__Color_Silver', 'encoder__Color_Sky blue', 'encoder__Color_White', 'encoder__Color_Yellow', 'encoder__Turbo_False', 'encoder__Turbo_True'], dtype='object', length=117)\n"
     ]
    }
   ],
   "source": [
    "concatened_transformed_df = pd.concat([data_scaled_robust, data_scaled, data_encoded],axis=1)\n",
    "print(concatened_transformed_df.head())\n",
    "print(concatened_transformed_df.info())\n",
    "print(concatened_transformed_df.columns)"
   ]
  },
  {
   "cell_type": "code",
   "execution_count": 55,
   "metadata": {},
   "outputs": [],
   "source": [
    "# concatened_transformed_df.to_csv('./cleaned_v2.csv', index=False)"
   ]
  },
  {
   "cell_type": "code",
   "execution_count": 56,
   "metadata": {},
   "outputs": [
    {
     "name": "stdout",
     "output_type": "stream",
     "text": [
      "19332.693025833672\n",
      "-0.03296598686586938\n",
      "y_pred [14876.46981641 15436.32821039 15395.96325884 ... 14778.8284793\n",
      " 15524.08759161 15095.78156571]\n"
     ]
    }
   ],
   "source": [
    "# Mini test\n",
    "from sklearn.svm import SVR\n",
    "from sklearn.model_selection import train_test_split\n",
    "from sklearn.metrics import mean_squared_error, r2_score\n",
    "\n",
    "X = concatened_transformed_df\n",
    "y = df['Price']\n",
    "# y = X['Price'] ?\n",
    "\n",
    "X_train, X_test, y_train, y_test = train_test_split(X, y, test_size=0.2, random_state=21)\n",
    "\n",
    "model = SVR(kernel='rbf')\n",
    "\n",
    "model.fit(X_train, y_train)\n",
    "\n",
    "y_pred = model.predict(X_test)\n",
    "\n",
    "print(mean_squared_error(y_test, y_pred, squared=False))\n",
    "print(r2_score(y_test, y_pred))\n",
    "\n",
    "print(\"y_pred\", y_pred)\n",
    "# print(\"y_test\",y_test)"
   ]
  }
 ],
 "metadata": {
  "kernelspec": {
   "display_name": ".venv",
   "language": "python",
   "name": "python3"
  },
  "language_info": {
   "codemirror_mode": {
    "name": "ipython",
    "version": 3
   },
   "file_extension": ".py",
   "mimetype": "text/x-python",
   "name": "python",
   "nbconvert_exporter": "python",
   "pygments_lexer": "ipython3",
   "version": "3.11.3"
  },
  "orig_nbformat": 4
 },
 "nbformat": 4,
 "nbformat_minor": 2
}
