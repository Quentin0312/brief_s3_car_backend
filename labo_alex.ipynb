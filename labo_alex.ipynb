{
 "cells": [
  {
   "attachments": {},
   "cell_type": "markdown",
   "metadata": {},
   "source": [
    "# Info pour la bdd"
   ]
  },
  {
   "cell_type": "code",
   "execution_count": 1,
   "metadata": {},
   "outputs": [],
   "source": [
    "import pandas as pd"
   ]
  },
  {
   "cell_type": "code",
   "execution_count": 2,
   "metadata": {},
   "outputs": [],
   "source": [
    "df = pd.read_csv('datacsv/original.csv')"
   ]
  },
  {
   "cell_type": "code",
   "execution_count": 7,
   "metadata": {},
   "outputs": [],
   "source": [
    "lengths = df.apply(lambda col: col.astype(str).str.len())\n",
    "\n",
    "# lambda mot-clé pour definir une fonction anoonyme\n",
    "# Ici la méthode apply applique la fonction ano pour chaque colonne de df, converti en str et calcule la longueur de la colonne\n"
   ]
  },
  {
   "cell_type": "code",
   "execution_count": 11,
   "metadata": {},
   "outputs": [
    {
     "name": "stdout",
     "output_type": "stream",
     "text": [
      "ID                   8\n",
      "Price                8\n",
      "Levy                 5\n",
      "Manufacturer        13\n",
      "Model               24\n",
      "Prod. year           4\n",
      "Category            11\n",
      "Leather interior     3\n",
      "Fuel type           14\n",
      "Engine volume        9\n",
      "Mileage             13\n",
      "Cylinders            4\n",
      "Gear box type        9\n",
      "Drive wheels         5\n",
      "Doors                6\n",
      "Wheel               16\n",
      "Color               13\n",
      "Airbags              2\n",
      "dtype: int64\n"
     ]
    }
   ],
   "source": [
    "print(lengths.max())\n",
    "\n",
    "# Ici on veut connaitre la valeur max de chaque colonne donc on applique la méthode max (Ceci est utile pour etre sur quel limite mettre pour la bdd)"
   ]
  },
  {
   "cell_type": "code",
   "execution_count": 15,
   "metadata": {},
   "outputs": [
    {
     "data": {
      "text/plain": [
       "ID                    int64\n",
       "Price                 int64\n",
       "Levy                 object\n",
       "Manufacturer         object\n",
       "Model                object\n",
       "Prod. year            int64\n",
       "Category             object\n",
       "Leather interior     object\n",
       "Fuel type            object\n",
       "Engine volume        object\n",
       "Mileage              object\n",
       "Cylinders           float64\n",
       "Gear box type        object\n",
       "Drive wheels         object\n",
       "Doors                object\n",
       "Wheel                object\n",
       "Color                object\n",
       "Airbags               int64\n",
       "dtype: object"
      ]
     },
     "execution_count": 15,
     "metadata": {},
     "output_type": "execute_result"
    }
   ],
   "source": [
    "df.dtypes"
   ]
  },
  {
   "cell_type": "code",
   "execution_count": null,
   "metadata": {},
   "outputs": [],
   "source": []
  }
 ],
 "metadata": {
  "kernelspec": {
   "display_name": ".venv",
   "language": "python",
   "name": "python3"
  },
  "language_info": {
   "codemirror_mode": {
    "name": "ipython",
    "version": 3
   },
   "file_extension": ".py",
   "mimetype": "text/x-python",
   "name": "python",
   "nbconvert_exporter": "python",
   "pygments_lexer": "ipython3",
   "version": "3.10.7"
  },
  "orig_nbformat": 4
 },
 "nbformat": 4,
 "nbformat_minor": 2
}
