{
 "cells": [
  {
   "attachments": {},
   "cell_type": "markdown",
   "metadata": {},
   "source": [
    "# Mini poc"
   ]
  },
  {
   "attachments": {},
   "cell_type": "markdown",
   "metadata": {},
   "source": [
    "## Preprocessing"
   ]
  },
  {
   "cell_type": "code",
   "execution_count": 15,
   "metadata": {},
   "outputs": [],
   "source": [
    "# à ajouter"
   ]
  },
  {
   "attachments": {},
   "cell_type": "markdown",
   "metadata": {},
   "source": [
    "## Import"
   ]
  },
  {
   "cell_type": "code",
   "execution_count": 16,
   "metadata": {},
   "outputs": [],
   "source": [
    "import pandas as pd\n",
    "from sklearn.preprocessing import OneHotEncoder\n",
    "from sklearn.model_selection import train_test_split\n",
    "from sklearn.svm import SVR\n",
    "from sklearn.metrics import mean_squared_error, r2_score"
   ]
  },
  {
   "cell_type": "code",
   "execution_count": 17,
   "metadata": {},
   "outputs": [],
   "source": [
    "# df = pd.read_csv('./datacsv/mini_poc.csv')\n",
    "df = pd.read_csv('../datacsv/mini_poc.csv')"
   ]
  },
  {
   "attachments": {},
   "cell_type": "markdown",
   "metadata": {},
   "source": [
    "## Encodage"
   ]
  },
  {
   "attachments": {},
   "cell_type": "markdown",
   "metadata": {},
   "source": [
    "Encode Ordinary :\n",
    "    Prod. year\n",
    "    Leather interior\n",
    "    Engine volume\n",
    "    Mileage\n",
    "    Cylinders\n",
    "    (Gear box type)\n",
    "    \n",
    "    \n",
    "\n",
    "Encode OneHot : \n",
    "    Manufacturer\n",
    "    (Model)\n",
    "    Category\n",
    "    Fuel type\n",
    "\n",
    "\n",
    "idk :\n",
    "    Levy\n",
    "    Drive wheels\n",
    "    Doors\n",
    "    Wheel\n",
    "    Color\n",
    "    Airbags"
   ]
  },
  {
   "attachments": {},
   "cell_type": "markdown",
   "metadata": {},
   "source": [
    "### Manufacturer"
   ]
  },
  {
   "cell_type": "code",
   "execution_count": 18,
   "metadata": {},
   "outputs": [],
   "source": [
    "enc = OneHotEncoder()"
   ]
  },
  {
   "cell_type": "code",
   "execution_count": 19,
   "metadata": {},
   "outputs": [],
   "source": [
    "manufacturer = df['Manufacturer']\n",
    "# Adapter l'encodeur aux données\n",
    "enc.fit(manufacturer.values.reshape(-1, 1))\n",
    "# Transformer la colonne 'Manufacturer' à l'aide de l'encodeur\n",
    "encoded_col = enc.transform(manufacturer.values.reshape(-1, 1))\n",
    "# Convertir le résultat en un DataFrame\n",
    "encoded_df = pd.DataFrame(\n",
    "    encoded_col.toarray(), columns=enc.categories_[0])\n",
    "# Concaténer le DataFrame encodé avec le DataFrame original\n",
    "df_encoded = pd.concat([df, encoded_df], axis=1)\n",
    "# Supprimer la colonne 'marque du véhicule' originale\n",
    "df_encoded.drop(columns=['Manufacturer'], inplace=True)"
   ]
  },
  {
   "attachments": {},
   "cell_type": "markdown",
   "metadata": {},
   "source": [
    "## Train test sets"
   ]
  },
  {
   "cell_type": "code",
   "execution_count": 20,
   "metadata": {},
   "outputs": [],
   "source": [
    "# Séparer les données d'entrée et la variable cible\n",
    "X = df_encoded.drop('Price', axis=1)\n",
    "y = df_encoded['Price']\n",
    "\n",
    "# Diviser les données en ensembles de train et de test\n",
    "X_train, X_test, y_train, y_test = train_test_split(\n",
    "    X, y, test_size=0.2, random_state=42)"
   ]
  },
  {
   "attachments": {},
   "cell_type": "markdown",
   "metadata": {},
   "source": [
    "## Modele entrainement et prédiction"
   ]
  },
  {
   "cell_type": "code",
   "execution_count": 25,
   "metadata": {},
   "outputs": [
    {
     "name": "stdout",
     "output_type": "stream",
     "text": [
      "       Prod. year  Mileage  ACURA  ALFA ROMEO  ASTON MARTIN  AUDI  BENTLEY   \n",
      "16273        2014    38624    0.0         0.0           0.0   0.0      0.0  \\\n",
      "5813         2005   160000    0.0         0.0           0.0   0.0      0.0   \n",
      "3013         2016    60000    0.0         0.0           0.0   0.0      0.0   \n",
      "11351        2010   140200    0.0         0.0           0.0   0.0      0.0   \n",
      "7723         2015    72000    0.0         0.0           0.0   0.0      0.0   \n",
      "...           ...      ...    ...         ...           ...   ...      ...   \n",
      "875          2011   122302    0.0         0.0           0.0   0.0      0.0   \n",
      "11135        2015   132320    0.0         0.0           0.0   0.0      0.0   \n",
      "3545         2014    99040    0.0         0.0           0.0   0.0      0.0   \n",
      "4816         2017    48000    0.0         0.0           0.0   0.0      0.0   \n",
      "16485        2002   310000    0.0         0.0           0.0   0.0      0.0   \n",
      "\n",
      "       BMW  BUICK  CADILLAC  ...  SKODA  SSANGYONG  SUBARU  SUZUKI  TOYOTA   \n",
      "16273  0.0    0.0       0.0  ...    0.0        0.0     0.0     0.0     0.0  \\\n",
      "5813   0.0    0.0       0.0  ...    0.0        0.0     0.0     0.0     0.0   \n",
      "3013   0.0    0.0       0.0  ...    0.0        0.0     0.0     0.0     1.0   \n",
      "11351  0.0    0.0       0.0  ...    0.0        0.0     0.0     0.0     0.0   \n",
      "7723   0.0    0.0       0.0  ...    0.0        0.0     0.0     0.0     0.0   \n",
      "...    ...    ...       ...  ...    ...        ...     ...     ...     ...   \n",
      "875    0.0    0.0       0.0  ...    0.0        0.0     0.0     0.0     0.0   \n",
      "11135  0.0    0.0       0.0  ...    0.0        0.0     0.0     0.0     0.0   \n",
      "3545   0.0    0.0       0.0  ...    0.0        0.0     0.0     0.0     1.0   \n",
      "4816   1.0    0.0       0.0  ...    0.0        0.0     0.0     0.0     0.0   \n",
      "16485  0.0    0.0       0.0  ...    0.0        0.0     0.0     0.0     0.0   \n",
      "\n",
      "       UAZ  VAZ  VOLKSWAGEN  VOLVO  ZAZ  \n",
      "16273  0.0  0.0         0.0    0.0  0.0  \n",
      "5813   0.0  0.0         0.0    0.0  0.0  \n",
      "3013   0.0  0.0         0.0    0.0  0.0  \n",
      "11351  0.0  0.0         0.0    0.0  0.0  \n",
      "7723   0.0  0.0         0.0    0.0  0.0  \n",
      "...    ...  ...         ...    ...  ...  \n",
      "875    0.0  0.0         0.0    0.0  0.0  \n",
      "11135  0.0  0.0         0.0    0.0  0.0  \n",
      "3545   0.0  0.0         0.0    0.0  0.0  \n",
      "4816   0.0  0.0         0.0    0.0  0.0  \n",
      "16485  0.0  0.0         0.0    0.0  0.0  \n",
      "\n",
      "[3366 rows x 63 columns]\n",
      "prediction=> [15479.80096509 14736.15712556 15432.27381356 ... 15237.27511775\n",
      " 15464.28866568 13867.0855309 ]\n"
     ]
    }
   ],
   "source": [
    "# Instancier un modèle SVR\n",
    "model = SVR(kernel='rbf')\n",
    "\n",
    "# Entraîner le modèle sur les données de train\n",
    "model.fit(X_train, y_train)\n",
    "\n",
    "# Faire des prédictions sur les données de test\n",
    "y_pred = model.predict(X_test)"
   ]
  },
  {
   "cell_type": "code",
   "execution_count": 27,
   "metadata": {},
   "outputs": [
    {
     "name": "stdout",
     "output_type": "stream",
     "text": [
      "3366\n",
      "prediction=> 3366\n"
     ]
    }
   ],
   "source": [
    "print(len(X_test.index))\n",
    "print('prediction=>', len(y_pred))"
   ]
  },
  {
   "attachments": {},
   "cell_type": "markdown",
   "metadata": {},
   "source": [
    "## Métrics"
   ]
  },
  {
   "cell_type": "code",
   "execution_count": 24,
   "metadata": {},
   "outputs": [
    {
     "name": "stdout",
     "output_type": "stream",
     "text": [
      "rmse=> 19169.762122368455\n",
      "rscore -0.039998905604035295\n"
     ]
    }
   ],
   "source": [
    "rmse = mean_squared_error(y_test, y_pred, squared=False)\n",
    "rscore = r2_score(y_test, y_pred)\n",
    "\n",
    "print('rmse=>', rmse)\n",
    "print('rscore', rscore)"
   ]
  }
 ],
 "metadata": {
  "kernelspec": {
   "display_name": ".venv",
   "language": "python",
   "name": "python3"
  },
  "language_info": {
   "codemirror_mode": {
    "name": "ipython",
    "version": 3
   },
   "file_extension": ".py",
   "mimetype": "text/x-python",
   "name": "python",
   "nbconvert_exporter": "python",
   "pygments_lexer": "ipython3",
   "version": "3.10.10"
  },
  "orig_nbformat": 4
 },
 "nbformat": 4,
 "nbformat_minor": 2
}
