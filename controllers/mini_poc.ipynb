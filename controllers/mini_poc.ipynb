{
 "cells": [
  {
   "attachments": {},
   "cell_type": "markdown",
   "metadata": {},
   "source": [
    "# Mini poc"
   ]
  },
  {
   "attachments": {},
   "cell_type": "markdown",
   "metadata": {},
   "source": [
    "## Preprocessing"
   ]
  },
  {
   "cell_type": "code",
   "execution_count": 54,
   "metadata": {},
   "outputs": [],
   "source": [
    "# à ajouter"
   ]
  },
  {
   "attachments": {},
   "cell_type": "markdown",
   "metadata": {},
   "source": [
    "## Import"
   ]
  },
  {
   "cell_type": "code",
   "execution_count": 55,
   "metadata": {},
   "outputs": [],
   "source": [
    "import pandas as pd\n",
    "from sklearn.preprocessing import OneHotEncoder\n",
    "from sklearn.model_selection import train_test_split\n",
    "from sklearn.svm import SVR\n",
    "from sklearn.metrics import mean_squared_error, r2_score"
   ]
  },
  {
   "cell_type": "code",
   "execution_count": 67,
   "metadata": {},
   "outputs": [
    {
     "name": "stdout",
     "output_type": "stream",
     "text": [
      "<class 'pandas.core.frame.DataFrame'>\n",
      "RangeIndex: 16828 entries, 0 to 16827\n",
      "Data columns (total 4 columns):\n",
      " #   Column        Non-Null Count  Dtype \n",
      "---  ------        --------------  ----- \n",
      " 0   Price         16828 non-null  int64 \n",
      " 1   Manufacturer  16828 non-null  object\n",
      " 2   Prod. year    16828 non-null  int64 \n",
      " 3   Mileage       16828 non-null  int64 \n",
      "dtypes: int64(3), object(1)\n",
      "memory usage: 526.0+ KB\n"
     ]
    }
   ],
   "source": [
    "df = pd.read_csv('../datacsv/mini_poc.csv')\n",
    "df.info()"
   ]
  },
  {
   "attachments": {},
   "cell_type": "markdown",
   "metadata": {},
   "source": [
    "## Encodage"
   ]
  },
  {
   "cell_type": "code",
   "execution_count": 1,
   "metadata": {},
   "outputs": [],
   "source": [
    "# Encoder les catégories, normaliser les valeurs numériques !!!\n",
    "# COncernant le nettoyage, s'assurer que toutes les valeurs à encoder en OneHotEncoder() ait des\n",
    "# nom de valeurs explicites ex: leather / no_leather au lieu de yes / no \n",
    "\n",
    "# Encoder =>\n",
    "#     X - Gear box type : OneHotEncoder()\n",
    "#     X - Leather interior : Cas special ?! (remplacer yes - no par leather - no leather) ?!\n",
    "#     X - Manufacturer : OneHotEncoder()\n",
    "#     nom doublé, alphabet géorgion - Model : OneHotEncoder()\n",
    "#     X - Category : OneHotEncoder()\n",
    "#     X - Fuel type : OneHotEncoder()\n",
    "#     X - Drive wheels : OneHotEncoder()\n",
    "#     X - Doors : OneHotEncoder()\n",
    "#     X - Wheel : OneHotEncoder()\n",
    "#     X - Color : OneHotEncoder()\n",
    "\n",
    "# Bloquer les prédictions dont les valeurs dépassent les min et max du dataset ?\n",
    "# Normaliser =>\n",
    "#     X - Prod. year : StandardScaler() (explication du choix => GPT)\n",
    "#     X - Engine volume : StandardScaler()\n",
    "#     X - Mileage : RobustScaler()\n",
    "#     X - Cylinders : Vérif si valeurs abérantes même après nottoyage, si oui robustScaler() sinon standardScaler()\n",
    "#     Levy (imputation) : RobustScaler()\n",
    "#     Airbags : StandardScaler() ou Robust() ?\n",
    "\n",
    "# fit_transform de façon grouper selon les transformers puis concat les df\n"
   ]
  },
  {
   "attachments": {},
   "cell_type": "markdown",
   "metadata": {},
   "source": [
    "### Manufacturer"
   ]
  },
  {
   "cell_type": "code",
   "execution_count": 58,
   "metadata": {},
   "outputs": [],
   "source": [
    "enc = OneHotEncoder()"
   ]
  },
  {
   "cell_type": "code",
   "execution_count": 59,
   "metadata": {},
   "outputs": [],
   "source": [
    "manufacturer = df['Manufacturer']\n",
    "# Adapter l'encodeur aux données\n",
    "enc.fit(manufacturer.values.reshape(-1, 1))\n",
    "# Transformer la colonne 'Manufacturer' à l'aide de l'encodeur\n",
    "encoded_col = enc.transform(manufacturer.values.reshape(-1, 1))\n",
    "# Convertir le résultat en un DataFrame\n",
    "encoded_df = pd.DataFrame(\n",
    "    encoded_col.toarray(), columns=enc.categories_[0])\n",
    "# Concaténer le DataFrame encodé avec le DataFrame original\n",
    "df_encoded = pd.concat([df, encoded_df], axis=1)\n",
    "# Supprimer la colonne 'marque du véhicule' originale\n",
    "df_encoded.drop(columns=['Manufacturer'], inplace=True)"
   ]
  },
  {
   "attachments": {},
   "cell_type": "markdown",
   "metadata": {},
   "source": [
    "## Train test sets"
   ]
  },
  {
   "cell_type": "code",
   "execution_count": 60,
   "metadata": {},
   "outputs": [],
   "source": [
    "# Séparer les données d'entrée et la variable cible\n",
    "X = df_encoded.drop('Price', axis=1)\n",
    "y = df_encoded['Price']\n",
    "\n",
    "# Diviser les données en ensembles de train et de test\n",
    "X_train, X_test, y_train, y_test = train_test_split(\n",
    "    X, y, test_size=0.2, random_state=42)"
   ]
  },
  {
   "attachments": {},
   "cell_type": "markdown",
   "metadata": {},
   "source": [
    "## Modele entrainement et prédiction"
   ]
  },
  {
   "cell_type": "code",
   "execution_count": 61,
   "metadata": {},
   "outputs": [],
   "source": [
    "# Instancier un modèle SVR\n",
    "model = SVR(kernel='rbf')\n",
    "\n",
    "# Entraîner le modèle sur les données de train\n",
    "model.fit(X_train, y_train)\n",
    "\n",
    "# Faire des prédictions sur les données de test\n",
    "y_pred = model.predict(X_test)"
   ]
  },
  {
   "cell_type": "code",
   "execution_count": 62,
   "metadata": {},
   "outputs": [
    {
     "name": "stdout",
     "output_type": "stream",
     "text": [
      "3366\n",
      "prediction=> 3366\n"
     ]
    }
   ],
   "source": [
    "print(len(X_test.index))\n",
    "print('prediction=>', len(y_pred))"
   ]
  },
  {
   "attachments": {},
   "cell_type": "markdown",
   "metadata": {},
   "source": [
    "## Métrics"
   ]
  },
  {
   "cell_type": "code",
   "execution_count": 63,
   "metadata": {},
   "outputs": [
    {
     "name": "stdout",
     "output_type": "stream",
     "text": [
      "rmse=> 19169.762122368455\n",
      "rscore -0.039998905604035295\n"
     ]
    }
   ],
   "source": [
    "rmse = mean_squared_error(y_test, y_pred, squared=False)\n",
    "rscore = r2_score(y_test, y_pred)\n",
    "\n",
    "print('rmse=>', rmse)\n",
    "print('rscore', rscore)"
   ]
  },
  {
   "attachments": {},
   "cell_type": "markdown",
   "metadata": {},
   "source": [
    "## Prédiction test"
   ]
  },
  {
   "attachments": {},
   "cell_type": "markdown",
   "metadata": {},
   "source": [
    "### Affichage d'une ligne de X_test"
   ]
  },
  {
   "cell_type": "code",
   "execution_count": 64,
   "metadata": {},
   "outputs": [
    {
     "name": "stdout",
     "output_type": "stream",
     "text": [
      "       Prod. year  Mileage  ACURA  ALFA ROMEO  ASTON MARTIN  AUDI  BENTLEY  BMW  BUICK  CADILLAC  CHEVROLET  CHRYSLER  CITROEN  DAEWOO  DAIHATSU  DODGE  FERRARI  FIAT  FORD  GAZ  GMC  HAVAL  HONDA  HUMMER  HYUNDAI  INFINITI  ISUZU  JAGUAR  JEEP  KIA  LAMBORGHINI  LANCIA  LAND ROVER  LEXUS  LINCOLN  MASERATI  MAZDA  MERCEDES-BENZ  MERCURY  MINI  MITSUBISHI  MOSKVICH  NISSAN  OPEL  PEUGEOT  PONTIAC  PORSCHE  RENAULT  ROVER  SAAB  SATURN  SCION  SEAT  SKODA  SSANGYONG  SUBARU  SUZUKI  TOYOTA  UAZ  VAZ  VOLKSWAGEN  VOLVO  ZAZ\n",
      "16273        2014    38624    0.0         0.0           0.0   0.0      0.0  0.0    0.0       0.0        0.0       0.0      0.0     0.0       0.0    0.0      0.0   0.0   0.0  0.0  0.0    0.0    0.0     0.0      1.0       0.0    0.0     0.0   0.0  0.0          0.0     0.0         0.0    0.0      0.0       0.0    0.0            0.0      0.0   0.0         0.0       0.0     0.0   0.0      0.0      0.0      0.0      0.0    0.0   0.0     0.0    0.0   0.0    0.0        0.0     0.0     0.0     0.0  0.0  0.0         0.0    0.0  0.0\n"
     ]
    }
   ],
   "source": [
    "pd.set_option('display.max_columns', 500)\n",
    "pd.set_option('display.width', 1000)\n",
    "f= open(\"outputTestFile.txt\", \"w\")\n",
    "f.write(str(X_test.iloc[:1]))\n",
    "f.close\n",
    "\n",
    "f=open(\"outputTestFile.txt\", \"r\")\n",
    "print(f.read())\n",
    "# print(X_test.iloc[:1])\n",
    "# print(type(X_test))"
   ]
  },
  {
   "attachments": {},
   "cell_type": "markdown",
   "metadata": {},
   "source": [
    "### Test de prédiction"
   ]
  },
  {
   "cell_type": "code",
   "execution_count": 66,
   "metadata": {},
   "outputs": [
    {
     "name": "stdout",
     "output_type": "stream",
     "text": [
      "[15479.80092422]\n"
     ]
    },
    {
     "name": "stderr",
     "output_type": "stream",
     "text": [
      "/home/payetquentin/Documents/workspace/briefs/S3_car/backend/.venv/lib/python3.10/site-packages/sklearn/base.py:439: UserWarning: X does not have valid feature names, but SVR was fitted with feature names\n",
      "  warnings.warn(\n"
     ]
    }
   ],
   "source": [
    "y_pred_test = model.predict([[1990, 38624, 1,0,0,0,0,0,0,0,0,0,0,0,0,0,0,0,0,0,0,0,0,0,0,0,0,0,0,0,0,0,0,0,0,0,0,0,0,0,0,0,0,0,0,0,0,0,0,0,0,0,0,0,0,0,0,0,0,0,0,0,0]])\n",
    "print(y_pred_test)\n",
    "\n",
    "# Possibilité pour créer l'input facilement\n",
    "# Avoir un df template vide\n",
    "# Y ajouter les valeurs correspondantes\n",
    "# Remplir les colonnes vides avec 0"
   ]
  }
 ],
 "metadata": {
  "kernelspec": {
   "display_name": ".venv",
   "language": "python",
   "name": "python3"
  },
  "language_info": {
   "codemirror_mode": {
    "name": "ipython",
    "version": 3
   },
   "file_extension": ".py",
   "mimetype": "text/x-python",
   "name": "python",
   "nbconvert_exporter": "python",
   "pygments_lexer": "ipython3",
   "version": "3.10.10"
  },
  "orig_nbformat": 4
 },
 "nbformat": 4,
 "nbformat_minor": 2
}
